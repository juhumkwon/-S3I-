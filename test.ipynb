{
  "nbformat": 4,
  "nbformat_minor": 0,
  "metadata": {
    "colab": {
      "provenance": [],
      "authorship_tag": "ABX9TyNtFmJ1oB9FjKxnXvw2m+ty",
      "include_colab_link": true
    },
    "kernelspec": {
      "name": "python3",
      "display_name": "Python 3"
    },
    "language_info": {
      "name": "python"
    }
  },
  "cells": [
    {
      "cell_type": "markdown",
      "metadata": {
        "id": "view-in-github",
        "colab_type": "text"
      },
      "source": [
        "<a href=\"https://colab.research.google.com/github/juhumkwon/-S3I-/blob/main/test.ipynb\" target=\"_parent\"><img src=\"https://colab.research.google.com/assets/colab-badge.svg\" alt=\"Open In Colab\"/></a>"
      ]
    },
    {
      "cell_type": "code",
      "execution_count": 3,
      "metadata": {
        "colab": {
          "base_uri": "https://localhost:8080/",
          "height": 53
        },
        "id": "jTHNAibG-Kr6",
        "outputId": "dd8a8947-04c4-4ce0-8472-4aceb0a2b357"
      },
      "outputs": [
        {
          "output_type": "stream",
          "name": "stdout",
          "text": [
            "test\n"
          ]
        },
        {
          "output_type": "execute_result",
          "data": {
            "text/plain": [
              "\"\\nㅇ러ㅏ노러ㅏ\\nㅏㅇㄻ나올노러ㅏㄴㅇㅁㄹㅇㄴ'\\n어로나ㅓ롱너ㅏㄹ\\nㅇㄴ루나로\\n\""
            ],
            "application/vnd.google.colaboratory.intrinsic+json": {
              "type": "string"
            }
          },
          "metadata": {},
          "execution_count": 3
        }
      ],
      "source": [
        "print(\"test\")\n",
        "# 연습\n",
        "\"\"\"\n",
        "ㅇ러ㅏ노러ㅏ\n",
        "ㅏㅇㄻ나올노러ㅏㄴㅇㅁㄹㅇㄴ'\n",
        "어로나ㅓ롱너ㅏㄹ\n",
        "ㅇㄴ루나로\n",
        "\"\"\""
      ]
    },
    {
      "cell_type": "code",
      "source": [],
      "metadata": {
        "id": "pLVOIIDh-LUP"
      },
      "execution_count": null,
      "outputs": []
    },
    {
      "cell_type": "code",
      "source": [],
      "metadata": {
        "id": "b9xw0hnV-Lkj"
      },
      "execution_count": null,
      "outputs": []
    }
  ]
}